{
 "cells": [
  {
   "cell_type": "code",
   "execution_count": 2,
   "metadata": {},
   "outputs": [],
   "source": [
    "def lcg(modulus: int, a: int, c: int, seed: int):\n",
    "    while True:\n",
    "        seed = (a * seed + c) % modulus\n",
    "        yield seed\n",
    "\n",
    "VALUE = lcg(2**128, 6364136223846793005, 1442695040888963407, 0)"
   ]
  },
  {
   "cell_type": "code",
   "execution_count": 3,
   "metadata": {},
   "outputs": [],
   "source": [
    "def random_1(value):\n",
    "    value = next(VALUE)\n",
    "    return str(value)[len(str(value))//2]"
   ]
  },
  {
   "cell_type": "code",
   "execution_count": 4,
   "metadata": {},
   "outputs": [],
   "source": [
    "def random_n(value,n):\n",
    "    hasil = \"\"\n",
    "    for i in range(n):\n",
    "        hasil += random_1(value)\n",
    "\n",
    "    return int(hasil)"
   ]
  },
  {
   "cell_type": "code",
   "execution_count": 5,
   "metadata": {},
   "outputs": [],
   "source": [
    "def randint1(n1,n):\n",
    "    digit = len(str(n))\n",
    "    while True:\n",
    "        hasil = random_n(VALUE, digit)\n",
    "        if n1 <= hasil <= n:\n",
    "            return hasil"
   ]
  }
 ],
 "metadata": {
  "kernelspec": {
   "display_name": "Python 3",
   "language": "python",
   "name": "python3"
  },
  "language_info": {
   "codemirror_mode": {
    "name": "ipython",
    "version": 3
   },
   "file_extension": ".py",
   "mimetype": "text/x-python",
   "name": "python",
   "nbconvert_exporter": "python",
   "pygments_lexer": "ipython3",
   "version": "3.12.2"
  }
 },
 "nbformat": 4,
 "nbformat_minor": 2
}
